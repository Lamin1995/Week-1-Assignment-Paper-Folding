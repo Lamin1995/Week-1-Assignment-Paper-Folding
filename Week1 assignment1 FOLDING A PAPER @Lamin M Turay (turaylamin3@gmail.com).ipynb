{
 "cells": [
  {
   "cell_type": "markdown",
   "metadata": {},
   "source": [
    "[Problem 1] Create using the exponentiation arithmetic operator"
   ]
  },
  {
   "cell_type": "code",
   "execution_count": 1,
   "metadata": {},
   "outputs": [
    {
     "name": "stdout",
     "output_type": "stream",
     "text": [
      "Thickness of sheet folded is: 703687441.77664\n"
     ]
    }
   ],
   "source": [
    "# main.py\n",
    "\n",
    "# default single paper thickness \n",
    "t_0 = 0.00008\n",
    "\n",
    "def app():\n",
    "    \"\"\"This function calculate the thickness of a paper\n",
    "    and return the calculated value\n",
    "\n",
    "    :thickness : the return value\n",
    "    \"\"\"\n",
    "\n",
    "    # calculation\n",
    "    thickness = t_0 * pow(2, 43)\n",
    "    \n",
    "    print('Thickness of sheet folded is: {}'.format(thickness))\n",
    "    return thickness\n",
    "\n",
    "if __name__ == \"__main__\":\n",
    "    app()\n",
    "    "
   ]
  },
  {
   "cell_type": "markdown",
   "metadata": {},
   "source": [
    "[Problem 2] Unit Conversion"
   ]
  },
  {
   "cell_type": "code",
   "execution_count": 2,
   "metadata": {},
   "outputs": [
    {
     "ename": "NameError",
     "evalue": "name 'folded_thickness' is not defined",
     "output_type": "error",
     "traceback": [
      "\u001b[1;31m---------------------------------------------------------------------------\u001b[0m",
      "\u001b[1;31mNameError\u001b[0m                                 Traceback (most recent call last)",
      "\u001b[1;32m<ipython-input-2-f63872157dbf>\u001b[0m in \u001b[0;36m<module>\u001b[1;34m\u001b[0m\n\u001b[0;32m      1\u001b[0m \u001b[1;31m#convert a meter into a kilometer and display it in two decimal places\u001b[0m\u001b[1;33m\u001b[0m\u001b[1;33m\u001b[0m\u001b[1;33m\u001b[0m\u001b[0m\n\u001b[1;32m----> 2\u001b[1;33m \u001b[0mprint\u001b[0m\u001b[1;33m(\u001b[0m\u001b[1;34m\"Thickness： {:.2f}km\"\u001b[0m\u001b[1;33m.\u001b[0m\u001b[0mformat\u001b[0m\u001b[1;33m(\u001b[0m\u001b[0mfolded_thickness\u001b[0m\u001b[1;33m/\u001b[0m\u001b[1;36m10000\u001b[0m\u001b[1;33m)\u001b[0m\u001b[1;33m)\u001b[0m\u001b[1;33m\u001b[0m\u001b[1;33m\u001b[0m\u001b[0m\n\u001b[0m",
      "\u001b[1;31mNameError\u001b[0m: name 'folded_thickness' is not defined"
     ]
    }
   ],
   "source": [
    "#convert a meter into a kilometer and display it in two decimal places\n",
    "print(\"Thickness： {:.2f}km\".format(folded_thickness/10000))\n"
   ]
  },
  {
   "cell_type": "markdown",
   "metadata": {},
   "source": [
    "Distance to the Moon is 384,400 km But the paper is 70368.74km\n",
    "So the paper did not reach the moon"
   ]
  },
  {
   "cell_type": "markdown",
   "metadata": {},
   "source": [
    "[Problem 3] Create using a for statement"
   ]
  },
  {
   "cell_type": "code",
   "execution_count": 1,
   "metadata": {},
   "outputs": [],
   "source": [
    "def paper(num_folds=43, thickness=0.00008):\n",
    "    for i in range(1, num_folds + 1):\n",
    "        thickness = thickness *2*2*2*2*2*2*2*2*2*2*2*2*2*2*2*2*2*2*2*2*2*2*2*2*2*2*2*2*2*2*2*2*2*2*2*2*2*2*2*2*2*2*2\n",
    "        print(\"Thickness： {} meters\".format(thickness))\n",
    "        if thickness >= 10000:\n",
    "            #convert to kilometer\n",
    "            print(\"Thickness： {:.2f}km\".format(thickness/10000))\n",
    "        else:\n",
    "            #convert to meter\n",
    "           \n",
    "            print(\"Thickness： {:.2f}meter\".format(thickness/1000))\n",
    "                \n",
    "\n",
    "\n",
    "                \n",
    "    "
   ]
  },
  {
   "cell_type": "markdown",
   "metadata": {},
   "source": [
    "[Problem 4] Comparison of calculation time"
   ]
  },
  {
   "cell_type": "code",
   "execution_count": 5,
   "metadata": {},
   "outputs": [
    {
     "name": "stdout",
     "output_type": "stream",
     "text": [
      "Thickness： 703687441.77664 meters\n",
      "time : 0.03498196601867676 sec\n"
     ]
    }
   ],
   "source": [
    "import time\n",
    "\n",
    "start = time.time()\n",
    "THICKNESS = 0.00008\n",
    "folded_thickness = THICKNESS*2**43\n",
    "print(\"Thickness： {} meters\".format(folded_thickness))\n",
    "elapsed_time = time.time() - start\n",
    "print(\"time : {} sec\".format(elapsed_time))\n",
    "\n"
   ]
  },
  {
   "cell_type": "code",
   "execution_count": null,
   "metadata": {},
   "outputs": [],
   "source": [
    "%%timeit\n",
    "folded_thickness = THICKNESS*2**43\n",
    "folded_thickness\n"
   ]
  },
  {
   "cell_type": "markdown",
   "metadata": {},
   "source": [
    "|[Problem 5] Saving to a list"
   ]
  },
  {
   "cell_type": "code",
   "execution_count": null,
   "metadata": {},
   "outputs": [],
   "source": [
    "#Creating an empty list\n",
    "list1 = [0.00008]\n",
    "fold_num = 43\n",
    "thickness = 0.00008\n",
    "\n",
    "#folded_thickness = \n",
    "for i in range(1, fold_num + 1):\n",
    "    folded_thickness = thickness*2**i\n",
    "    \n",
    "    #Adding values to the list\n",
    "    list1.append(folded_thickness)\n",
    "    print(list1)\n",
    "    print(len(list1))"
   ]
  },
  {
   "cell_type": "code",
   "execution_count": null,
   "metadata": {},
   "outputs": [],
   "source": [
    "print(len(list1))"
   ]
  },
  {
   "cell_type": "markdown",
   "metadata": {},
   "source": [
    "PROBLEM 6- DISPLAYING A LINE GRAPE"
   ]
  },
  {
   "cell_type": "code",
   "execution_count": null,
   "metadata": {},
   "outputs": [],
   "source": [
    "import matplotlib.pyplot as plt\n",
    "#%matplotlib inline\n",
    "\n",
    "plt.title(\"thickness of folded paper\")\n",
    "plt.xlabel(\"number of folds\")\n",
    "plt.ylabel(\"thickness[M]\")\n",
    "plt.tick_params(labelsize=10)\n",
    "plt.plot(list1)\n",
    "plt.show()"
   ]
  },
  {
   "cell_type": "markdown",
   "metadata": {},
   "source": [
    "FROM THE GRAPH, IT IS OBSERVED THAT THE THICKNESS OF THE INCREASES WHEN THE NUMBER OF FOLDS INCREASES. THERE IS SLOW AND GRADUAL INCREAMENT IN THE THICKNESS OF THE PAPER.\n"
   ]
  },
  {
   "cell_type": "markdown",
   "metadata": {},
   "source": [
    "PROBLEM 7- Customizing graphs"
   ]
  },
  {
   "cell_type": "code",
   "execution_count": null,
   "metadata": {},
   "outputs": [],
   "source": [
    "#Making the line dotted\n",
    "plt.title(\"thickness of folded paper\")\n",
    "plt.xlabel(\"number of folds\")\n",
    "plt.ylabel(\"thickness[M]\")\n",
    "#changing line style and color\n",
    "plt.plot(list1, 'ro' )\n",
    "\n",
    "plt.figure(figsize=(48, 24))\n",
    "plt.show()"
   ]
  },
  {
   "cell_type": "code",
   "execution_count": null,
   "metadata": {},
   "outputs": [],
   "source": [
    "plt.title(\"thickness of folded paper\")\n",
    "plt.xlabel(\"number of folds\")\n",
    "plt.ylabel(\"thickness[M]\")\n",
    "#changing line style and color\n",
    "plt.plot(list1, linewidth=3.0, color='red' )\n",
    "plt.tick_params(labelsize=20)\n",
    "plt.figure(figsize=(48, 24))\n",
    "plt.show()\n",
    "\n"
   ]
  },
  {
   "cell_type": "code",
   "execution_count": null,
   "metadata": {},
   "outputs": [],
   "source": []
  },
  {
   "cell_type": "code",
   "execution_count": null,
   "metadata": {},
   "outputs": [],
   "source": []
  }
 ],
 "metadata": {
  "kernelspec": {
   "display_name": "Python 3",
   "language": "python",
   "name": "python3"
  },
  "language_info": {
   "codemirror_mode": {
    "name": "ipython",
    "version": 3
   },
   "file_extension": ".py",
   "mimetype": "text/x-python",
   "name": "python",
   "nbconvert_exporter": "python",
   "pygments_lexer": "ipython3",
   "version": "3.8.3"
  }
 },
 "nbformat": 4,
 "nbformat_minor": 4
}
